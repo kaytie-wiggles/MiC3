{
 "cells": [
  {
   "cell_type": "code",
   "execution_count": 1,
   "id": "031f20a9",
   "metadata": {},
   "outputs": [],
   "source": [
    "import numpy as np\n",
    "import pandas as pd\n"
   ]
  },
  {
   "cell_type": "code",
   "execution_count": 2,
   "id": "7288a079",
   "metadata": {},
   "outputs": [],
   "source": [
    "#TODO : Change the mount path for file\n",
    "df = pd.read_csv('/Users/kaytie/Documents/Git/MiC3/data/ipdr.csv') "
   ]
  },
  {
   "cell_type": "code",
   "execution_count": 3,
   "id": "e3da3dc3",
   "metadata": {},
   "outputs": [
    {
     "name": "stdout",
     "output_type": "stream",
     "text": [
      "MSISDNs: [1 2 3 4]\n"
     ]
    }
   ],
   "source": [
    "# Step 1: Select each MSISDN\n",
    "distinct_msisdn = df['msisdn'].unique()\n",
    "print(\"MSISDNs:\", distinct_msisdn)"
   ]
  },
  {
   "cell_type": "code",
   "execution_count": 4,
   "id": "4781a722",
   "metadata": {},
   "outputs": [
    {
     "name": "stdout",
     "output_type": "stream",
     "text": [
      "Domains: ['app1' 'app2' 'app3' 'app4']\n"
     ]
    }
   ],
   "source": [
    "# check distinct domains\n",
    "distinct_domains = df['domain'].unique()\n",
    "print(\"Domains:\", distinct_domains)"
   ]
  },
  {
   "cell_type": "code",
   "execution_count": 5,
   "id": "1ee4234d",
   "metadata": {},
   "outputs": [],
   "source": [
    "# Group by MSISDN and Domain\n",
    "grouped = df.groupby(['msisdn', 'domain'])"
   ]
  },
  {
   "cell_type": "code",
   "execution_count": 6,
   "id": "f2bed81d",
   "metadata": {},
   "outputs": [],
   "source": [
    "# Convert to datetime\n",
    "df['starttime'] = pd.to_datetime(df['starttime'], format='%Y-%m-%d%H:%M:%S')\n",
    "df['endtime'] = pd.to_datetime(df['endtime'], format='%Y-%m-%d%H:%M:%S')"
   ]
  },
  {
   "cell_type": "code",
   "execution_count": 7,
   "id": "be16e418",
   "metadata": {},
   "outputs": [],
   "source": [
    "# # STEP 5 : Calculate total volume in Kb \n",
    "df['total_volume_kb'] = (df['ulvolume'] + df['dlvolume']) * 8 / 1024"
   ]
  },
  {
   "cell_type": "code",
   "execution_count": 8,
   "id": "c640eaab",
   "metadata": {},
   "outputs": [],
   "source": [
    "# # Calculate duration in seconds for each FDR\n",
    "# df['duration_seconds'] = (df['endtime'] - df['starttime']).dt.total_seconds()"
   ]
  },
  {
   "cell_type": "code",
   "execution_count": 9,
   "id": "8773c181",
   "metadata": {},
   "outputs": [],
   "source": [
    "# store the final output\n",
    "output = []"
   ]
  },
  {
   "cell_type": "code",
   "execution_count": 10,
   "id": "58e8c0e0",
   "metadata": {},
   "outputs": [],
   "source": [
    "# Group by each domain per msisdn\n",
    "for (msisdn, domain), group in grouped:\n",
    "    \n",
    "    # Step 3.a : Calculate start time (ST) and end time (ET) for each FDR\n",
    "    st = group['starttime'].min()\n",
    "    et = group['endtime'].max()\n",
    "    \n",
    "    # Step 4: FDR\n",
    "    et_star = et - pd.Timedelta(minutes=10)\n",
    "    # Step 4a: FDR\n",
    "    # Apply rule: If ET-10 minutes < ST, keep the original ET\n",
    "    if et_star < st:\n",
    "        et_star = et\n",
    "    \n",
    "    # STEP 5 : Calculate total volume in Kb per domain\n",
    "#     df['total_volume_kb'] = (df['ulvolume'] + df['dlvolume']) * 8 / 1024\n",
    "    total_volume = group['total_volume_kb'].sum()\n",
    "    \n",
    "    # Step 6 : Calculate total time of each call in seconds\n",
    "    total_time = (et_star - st).total_seconds()\n",
    "    \n",
    "    # Step 7 : Calculate bit rate of each call\n",
    "    bit_rate = total_volume / total_time if total_time > 0 else 0\n",
    "    \n",
    "    # Calculate duration in seconds for each FDR\n",
    "    df['duration_seconds'] = (df['endtime'] - df['starttime']).dt.total_seconds()\n",
    "    \n",
    "    # Step 8 : Identification of Audio or video call and its count\n",
    "    # Step 8a: Discard call record if bit rate is less than 10 kbps\n",
    "    if bit_rate < 10:\n",
    "        continue\n",
    "    # Step 8b: Assuming <=200 Kbps is audio call, >200 kbps is video call\n",
    "    is_audio = bit_rate <= 200\n",
    "    is_video = bit_rate > 200\n",
    "\n",
    "    # Count the number of CDRs (FDR count) to make a single call\n",
    "    fdr_count = group.shape[0]\n",
    "\n",
    "    output.append({\n",
    "        'msisdn': msisdn,\n",
    "        'domain': domain,\n",
    "        'duration_seconds': total_time,\n",
    "        'fdr_count': fdr_count,\n",
    "        'kbps': bit_rate,\n",
    "        'isAudio': int(is_audio),\n",
    "        'isVideo': int(is_video)\n",
    "    })\n",
    "\n",
    "# Convert the output list to a DataFrame\n",
    "output_df = pd.DataFrame(output)\n",
    "\n",
    "\n"
   ]
  },
  {
   "cell_type": "code",
   "execution_count": 11,
   "id": "d5358573",
   "metadata": {},
   "outputs": [
    {
     "data": {
      "text/html": [
       "<div>\n",
       "<style scoped>\n",
       "    .dataframe tbody tr th:only-of-type {\n",
       "        vertical-align: middle;\n",
       "    }\n",
       "\n",
       "    .dataframe tbody tr th {\n",
       "        vertical-align: top;\n",
       "    }\n",
       "\n",
       "    .dataframe thead th {\n",
       "        text-align: right;\n",
       "    }\n",
       "</style>\n",
       "<table border=\"1\" class=\"dataframe\">\n",
       "  <thead>\n",
       "    <tr style=\"text-align: right;\">\n",
       "      <th></th>\n",
       "      <th>msisdn</th>\n",
       "      <th>domain</th>\n",
       "      <th>duration_seconds</th>\n",
       "      <th>fdr_count</th>\n",
       "      <th>kbps</th>\n",
       "      <th>isAudio</th>\n",
       "      <th>isVideo</th>\n",
       "    </tr>\n",
       "  </thead>\n",
       "  <tbody>\n",
       "    <tr>\n",
       "      <th>0</th>\n",
       "      <td>1</td>\n",
       "      <td>app1</td>\n",
       "      <td>2.0</td>\n",
       "      <td>2</td>\n",
       "      <td>185.582031</td>\n",
       "      <td>1</td>\n",
       "      <td>0</td>\n",
       "    </tr>\n",
       "    <tr>\n",
       "      <th>1</th>\n",
       "      <td>2</td>\n",
       "      <td>app2</td>\n",
       "      <td>131.0</td>\n",
       "      <td>5</td>\n",
       "      <td>17.049320</td>\n",
       "      <td>1</td>\n",
       "      <td>0</td>\n",
       "    </tr>\n",
       "    <tr>\n",
       "      <th>2</th>\n",
       "      <td>3</td>\n",
       "      <td>app3</td>\n",
       "      <td>423.0</td>\n",
       "      <td>6</td>\n",
       "      <td>72.148715</td>\n",
       "      <td>1</td>\n",
       "      <td>0</td>\n",
       "    </tr>\n",
       "  </tbody>\n",
       "</table>\n",
       "</div>"
      ],
      "text/plain": [
       "   msisdn domain  duration_seconds  fdr_count        kbps  isAudio  isVideo\n",
       "0       1   app1               2.0          2  185.582031        1        0\n",
       "1       2   app2             131.0          5   17.049320        1        0\n",
       "2       3   app3             423.0          6   72.148715        1        0"
      ]
     },
     "metadata": {},
     "output_type": "display_data"
    }
   ],
   "source": [
    "display(output_df)"
   ]
  }
 ],
 "metadata": {
  "kernelspec": {
   "display_name": "Python 3 (ipykernel)",
   "language": "python",
   "name": "python3"
  },
  "language_info": {
   "codemirror_mode": {
    "name": "ipython",
    "version": 3
   },
   "file_extension": ".py",
   "mimetype": "text/x-python",
   "name": "python",
   "nbconvert_exporter": "python",
   "pygments_lexer": "ipython3",
   "version": "3.11.0"
  },
  "vscode": {
   "interpreter": {
    "hash": "aee8b7b246df8f9039afb4144a1f6fd8d2ca17a180786b69acc140d282b71a49"
   }
  }
 },
 "nbformat": 4,
 "nbformat_minor": 5
}
